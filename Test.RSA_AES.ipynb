{
 "cells": [
  {
   "cell_type": "markdown",
   "id": "2a8a4007",
   "metadata": {},
   "source": [
    "# 生成公私钥"
   ]
  },
  {
   "cell_type": "code",
   "execution_count": 3,
   "id": "f4f69c64",
   "metadata": {},
   "outputs": [],
   "source": [
    "from Crypto import Random\n",
    "from Crypto.PublicKey import RSA\n",
    "random_generator = Random.new().read  \n",
    "rsa = RSA.generate(2048, random_generator)  \n",
    "private_key = rsa.exportKey()\n",
    "public_key = rsa.publickey().exportKey() \n",
    "with open('rsa_private_key.pem', 'wb')as f:\n",
    "    f.write(private_key)  \n",
    "with open('rsa_public_key.pem', 'wb')as f:\n",
    "    f.write(public_key)\n"
   ]
  },
  {
   "cell_type": "markdown",
   "id": "13e52849",
   "metadata": {},
   "source": [
    "# 加密与解密"
   ]
  },
  {
   "cell_type": "code",
   "execution_count": 7,
   "id": "4c3a4dae",
   "metadata": {},
   "outputs": [
    {
     "name": "stdout",
     "output_type": "stream",
     "text": [
      "decrypt_text: Hello World \n",
      "\n",
      "encrypt_text: D5lIBs/5CHtdRk80n6YIWt9pVbQ1EgN8hHPtHK6MxXnMCXse6rTEXWqV32jK2w0l+d5fSOPnB21sInJvKkkwwKLPlKNQacQUne6ffagNvMUTEYTCWXx6ek9z8oo6aZRpB1WQbj/XEjMmF162yLgFWXNAUtghu1rUqbS/m+y8UHqfzawVUx9Wo/33m/9wtdObnIkrF9x+neIflwsUJP07i5fdR0wrlJ2hVs7VYpHVzUPxunyULoTIBPokBzAWrknFqk8Lz88j12ebKuTrSOx2aM2vfUhb2pqrSSbNGwl4ZI7nr3zr/qFgxDtMgh3Gu3x18+Y6VZnJSv3baulGwsXe9A== \n",
      "\n"
     ]
    }
   ],
   "source": [
    "import base64\n",
    "from Crypto.PublicKey import RSA\n",
    "from Crypto.Cipher import PKCS1_v1_5 as PKCS1_cipher  \n",
    "\n",
    "\n",
    "def get_key(key_file):\n",
    "    with open(key_file) as f:\n",
    "        data = f.read() \n",
    "        key = RSA.importKey(data)\n",
    "    return key\n",
    "\n",
    "\n",
    "def encrypt_data(msg): #加密\n",
    "    public_key = get_key('rsa_public_key.pem')  \n",
    "    cipher = PKCS1_cipher.new(public_key)  \n",
    "    encrypt_text = base64.b64encode(cipher.encrypt(msg.encode()))  \n",
    "    return encrypt_text.decode()  \n",
    "\n",
    "\n",
    "def decrypt_data(encrypt_msg): #解密\n",
    "    private_key = get_key('rsa_private_key.pem')  \n",
    "    cipher = PKCS1_cipher.new(private_key)  \n",
    "    back_text = cipher.decrypt(base64.b64decode(encrypt_msg), 0)  \n",
    "    return back_text.decode() \n",
    "\n",
    "\n",
    "msg = \"Hello World\"\n",
    "encrypt_text = encrypt_data(msg)  # 加密\n",
    "decrypt_text = decrypt_data(encrypt_text)  # 解密\n",
    "print('decrypt_text:',decrypt_text,'\\n')\n",
    "print('encrypt_text:',encrypt_text,'\\n')"
   ]
  },
  {
   "cell_type": "markdown",
   "id": "46ef1205",
   "metadata": {},
   "source": [
    "# 数字签名与验证数字签名"
   ]
  },
  {
   "cell_type": "code",
   "execution_count": 8,
   "id": "27faca83",
   "metadata": {},
   "outputs": [
    {
     "name": "stdout",
     "output_type": "stream",
     "text": [
      "True\n"
     ]
    }
   ],
   "source": [
    "import base64\n",
    "from Crypto.PublicKey import RSA\n",
    "from Crypto.Hash import SHA\n",
    "from Crypto.Signature import PKCS1_v1_5 as PKCS1_signature\n",
    "\n",
    "\n",
    "def get_key(key_file):\n",
    "    with open(key_file) as f:\n",
    "        data = f.read()\n",
    "        key = RSA.importKey(data)\n",
    "    return key\n",
    "\n",
    "\n",
    "def rsa_private_sign(data): #签名\n",
    "    private_key = get_key('rsa_private_key.pem')  \n",
    "    signer = PKCS1_signature.new(private_key)  \n",
    "    digest = SHA.new()  \n",
    "    digest.update(data.encode())  \n",
    "    sign = signer.sign(digest)  \n",
    "    signature = base64.b64encode(sign)  \n",
    "    signature = signature.decode()  \n",
    "    return signature  \n",
    "\n",
    "\n",
    "def rsa_public_check_sign(text, sign): #验签\n",
    "    publick_key = get_key('rsa_public_key.pem')  \n",
    "    verifier = PKCS1_signature.new(publick_key)  \n",
    "    digest = SHA.new()  \n",
    "    digest.update(text.encode())  \n",
    "    return verifier.verify(digest, base64.b64decode(sign))  \n",
    "\n",
    "\n",
    "msg = 'Hello World'\n",
    "sign = rsa_private_sign(msg)\n",
    "print(rsa_public_check_sign(msg, sign))\n",
    "\n",
    "# 返回True验证成功，返回False验证失败"
   ]
  },
  {
   "cell_type": "markdown",
   "id": "d9266ba6",
   "metadata": {},
   "source": [
    "# AES加密与解密"
   ]
  },
  {
   "cell_type": "code",
   "execution_count": 31,
   "id": "95056e2f",
   "metadata": {},
   "outputs": [
    {
     "name": "stdout",
     "output_type": "stream",
     "text": [
      "加密后的密文： uc1bRdYXkE8xoLzvuojaTg==\n",
      "解密后的明文： Hello, World!\n"
     ]
    }
   ],
   "source": [
    "from Crypto.Cipher import AES\n",
    "import base64\n",
    "\n",
    "# 加密函数\n",
    "def encrypt(text, key):\n",
    "    cipher = AES.new(key.encode('utf-8'), AES.MODE_ECB)\n",
    "    # 补全text长度为AES块大小的倍数\n",
    "    text = text + (AES.block_size - len(text) % AES.block_size) * chr(AES.block_size - len(text) % AES.block_size)\n",
    "    encrypted_text = cipher.encrypt(text.encode('utf-8'))\n",
    "    # 将加密后的字节流转换为base64编码字符串\n",
    "    encrypted_text_base64 = base64.b64encode(encrypted_text).decode('utf-8')\n",
    "    return encrypted_text_base64\n",
    "\n",
    "# 解密函数\n",
    "def decrypt(encrypted_text_base64, key):\n",
    "    cipher = AES.new(key.encode('utf-8'), AES.MODE_ECB)\n",
    "    # 将base64编码字符串转换为加密后的字节流\n",
    "    encrypted_text = base64.b64decode(encrypted_text_base64.encode('utf-8'))\n",
    "    decrypted_text = cipher.decrypt(encrypted_text).decode('utf-8')\n",
    "    # 去除填充的字符\n",
    "    decrypted_text = decrypted_text[:-ord(decrypted_text[-1])]\n",
    "    return decrypted_text\n",
    "\n",
    "if __name__ == '__main__':\n",
    "    # 使用128位的AES密钥，长度为16字节\n",
    "    key = 'mysecretpassword'\n",
    "    # 待加密的明文\n",
    "    text = 'Hello, World!'\n",
    "    # 加密\n",
    "    encrypted_text = encrypt(text, key)\n",
    "    print('加密后的密文：', encrypted_text)\n",
    "    # 解密\n",
    "    decrypted_text = decrypt(encrypted_text, key)\n",
    "    print('解密后的明文：', decrypted_text)\n"
   ]
  },
  {
   "cell_type": "code",
   "execution_count": null,
   "id": "d3bb2fd4",
   "metadata": {},
   "outputs": [],
   "source": []
  },
  {
   "cell_type": "code",
   "execution_count": null,
   "id": "0d8a34c3",
   "metadata": {},
   "outputs": [],
   "source": []
  },
  {
   "cell_type": "code",
   "execution_count": null,
   "id": "c7314de7",
   "metadata": {},
   "outputs": [],
   "source": []
  }
 ],
 "metadata": {
  "kernelspec": {
   "display_name": "Python 3 (ipykernel)",
   "language": "python",
   "name": "python3"
  },
  "language_info": {
   "codemirror_mode": {
    "name": "ipython",
    "version": 3
   },
   "file_extension": ".py",
   "mimetype": "text/x-python",
   "name": "python",
   "nbconvert_exporter": "python",
   "pygments_lexer": "ipython3",
   "version": "3.9.12"
  }
 },
 "nbformat": 4,
 "nbformat_minor": 5
}
